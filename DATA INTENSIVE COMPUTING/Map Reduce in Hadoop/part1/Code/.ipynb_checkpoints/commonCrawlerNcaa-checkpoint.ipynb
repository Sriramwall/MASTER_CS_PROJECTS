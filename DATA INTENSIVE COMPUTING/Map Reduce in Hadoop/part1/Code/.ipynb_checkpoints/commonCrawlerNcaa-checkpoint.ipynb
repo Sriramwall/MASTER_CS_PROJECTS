{
 "cells": [
  {
   "cell_type": "code",
   "execution_count": 1,
   "metadata": {},
   "outputs": [],
   "source": [
    "import requests\n",
    "import time\n",
    "import json\n",
    "import gzip\n",
    "import csv\n",
    "import codecs\n",
    "from bs4 import BeautifulSoup\n",
    "import io\n",
    "import sys\n",
    "from nltk.corpus import stopwords\n",
    "from nltk.stem import PorterStemmer as ps\n",
    "\n",
    "stemmer = ps()"
   ]
  },
  {
   "cell_type": "code",
   "execution_count": 2,
   "metadata": {},
   "outputs": [],
   "source": [
    "#domain = 'nba.com/article/*'\n",
    "index = \"2019-13\"\n",
    "\n",
    "domain = 'espn.com/mens-college-basketball/insider/*'\n",
    "#domain=\"si.com/college-basketball/*\"\n",
    "#id = article-body, <p>, longform-body"
   ]
  },
  {
   "cell_type": "code",
   "execution_count": 3,
   "metadata": {},
   "outputs": [],
   "source": [
    "urls = []\n",
    "cc_url  = \"http://index.commoncrawl.org/CC-MAIN-\"+index+\"-index?\"+\"url=\"+domain+\"&output=json\"\n",
    "response = requests.get(cc_url)\n",
    "if response.status_code == 200:\n",
    "    records = response.content.splitlines()\n",
    "    for record in records:\n",
    "        urls.append(json.loads(record))"
   ]
  },
  {
   "cell_type": "code",
   "execution_count": 4,
   "metadata": {},
   "outputs": [],
   "source": [
    "stop_words = set(stopwords.words('english'))\n",
    "\n",
    "def getHeader(start, length):\n",
    "    return {'Range': 'bytes='+str(start)+'-'+str(start+length-1)}\n",
    "\n",
    "def stemAndRemoveStop(paras):\n",
    "    res = []\n",
    "    for para in paras:\n",
    "        tempRes = []\n",
    "        for w in para.split(' '):\n",
    "            if w not in stop_words:\n",
    "                tempRes.append(stemmer.stem(w))\n",
    "        res.append(' '.join(tempRes))\n",
    "    return res\n",
    "\n",
    "#https://www.bellingcat.com/resources/2015/08/13/using-python-to-mine-common-crawl/\n",
    "def getContent(record):\n",
    "    url = 'https://commoncrawl.s3.amazonaws.com/'\n",
    "    resp = requests.get(url + record['filename'], headers=getHeader(int(record['offset']), int(record['length'])))\n",
    "    raw_data = io.BytesIO(resp.content)\n",
    "    f = gzip.GzipFile(fileobj=raw_data)\n",
    "    data = f.read()\n",
    "    response = \"\"\n",
    "    if len(data):\n",
    "        try:\n",
    "            warc, header, response = data.decode(encoding='utf-8', errors='strict').strip().split('\\r\\n\\r\\n', 2)\n",
    "        except:\n",
    "            pass\n",
    "    collection=[]\n",
    "    if response:\n",
    "        bs = BeautifulSoup(response)\n",
    "        paras= bs.find_all(\"p\")\n",
    "        return ' '.join(stemAndRemoveStop(list(map(lambda c: c.text, paras))))\n",
    "    return response"
   ]
  },
  {
   "cell_type": "code",
   "execution_count": 5,
   "metadata": {},
   "outputs": [],
   "source": [
    "articles = []\n",
    "fileCount = 0\n",
    "for i, webpage in enumerate(urls):\n",
    "    content = getContent(webpage)\n",
    "    if content:\n",
    "        fileCount+=1\n",
    "        articles.append(getContent(webpage))\n",
    "    if fileCount==1000:\n",
    "        break"
   ]
  },
  {
   "cell_type": "code",
   "execution_count": 7,
   "metadata": {},
   "outputs": [
    {
     "data": {
      "text/plain": [
       "78"
      ]
     },
     "execution_count": 7,
     "metadata": {},
     "output_type": "execute_result"
    }
   ],
   "source": [
    "len(articles)"
   ]
  },
  {
   "cell_type": "code",
   "execution_count": 8,
   "metadata": {},
   "outputs": [],
   "source": [
    "for i, article in enumerate(articles):\n",
    "    if article:\n",
    "        file = open('ccNCAAArticle/Article'+str(i)+'.txt', 'w')\n",
    "        file.write(article)\n",
    "        file.close()"
   ]
  },
  {
   "cell_type": "code",
   "execution_count": null,
   "metadata": {},
   "outputs": [],
   "source": []
  }
 ],
 "metadata": {
  "kernelspec": {
   "display_name": "Python 3",
   "language": "python",
   "name": "python3"
  },
  "language_info": {
   "codemirror_mode": {
    "name": "ipython",
    "version": 3
   },
   "file_extension": ".py",
   "mimetype": "text/x-python",
   "name": "python",
   "nbconvert_exporter": "python",
   "pygments_lexer": "ipython3",
   "version": "3.7.1"
  }
 },
 "nbformat": 4,
 "nbformat_minor": 2
}
